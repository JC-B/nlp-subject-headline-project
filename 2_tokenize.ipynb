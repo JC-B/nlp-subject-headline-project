{
 "cells": [
  {
   "cell_type": "code",
   "execution_count": null,
   "metadata": {
    "collapsed": true
   },
   "outputs": [],
   "source": [
    "# This notebook loads articles, headlines from pickle file, tokenizes them and stores a dictionary for vocabcount"
   ]
  },
  {
   "cell_type": "code",
   "execution_count": 3,
   "metadata": {
    "collapsed": true
   },
   "outputs": [],
   "source": [
    "reset -fs"
   ]
  },
  {
   "cell_type": "code",
   "execution_count": 4,
   "metadata": {
    "collapsed": true
   },
   "outputs": [],
   "source": [
    "from collections import Counter\n",
    "import json\n",
    "import pickle"
   ]
  },
  {
   "cell_type": "code",
   "execution_count": 5,
   "metadata": {
    "collapsed": true
   },
   "outputs": [],
   "source": [
    "with open('hackernews_scrapy/hackernews_scrapy/hackernews.json') as json_data:\n",
    "    article = json.load(json_data)"
   ]
  },
  {
   "cell_type": "code",
   "execution_count": 6,
   "metadata": {},
   "outputs": [
    {
     "name": "stdout",
     "output_type": "stream",
     "text": [
      "dict_keys(['link_title', 'url', 'text', 'sentiment'])\n"
     ]
    }
   ],
   "source": [
    "print(article[0].keys())"
   ]
  },
  {
   "cell_type": "code",
   "execution_count": null,
   "metadata": {
    "collapsed": true
   },
   "outputs": [],
   "source": [
    "with open('data/tokens.pkl', 'wb') as f:\n",
    "    pickle.dump([art[\"link_title\"], art[\"text\"], None], f) # head,desc,keyword"
   ]
  },
  {
   "cell_type": "code",
   "execution_count": 10,
   "metadata": {
    "collapsed": true
   },
   "outputs": [],
   "source": [
    "heads = []\n",
    "desc = []\n",
    "sentiment = []\n",
    "for art in article[0:11]:\n",
    "    link_title = textblob.TextBlob(art[\"link_title\"])\n",
    "    link_text = textblob.TextBlob(art[\"text\"])\n",
    "    heads.append(link_title.lower().words)\n",
    "    desc.append(link_text.lower().words)\n",
    "    sentiment.append(link_text.sentiment)"
   ]
  },
  {
   "cell_type": "code",
   "execution_count": null,
   "metadata": {
    "collapsed": true
   },
   "outputs": [],
   "source": []
  },
  {
   "cell_type": "code",
   "execution_count": 11,
   "metadata": {},
   "outputs": [
    {
     "data": {
      "text/plain": [
       "(11,\n",
       " 11,\n",
       " WordList(['lyft', 'riders', 'will', 'be', 'able', 'to', 'hail', 'a', 'semi-autonomous', 'car', 'by', 'the', 'end', 'of', '2017']),\n",
       " WordList(['lyft', 'riders', 'will', 'be', 'able', 'to', 'hail', 'a', 'semi-autonomous', 'car', 'in', 'the', 'bay', 'area', 'by', 'the', 'end', 'of', '2017', 'lyft', 'is', 'adding', 'another', 'self-driving', 'startup', 'to', 'the', 'roster', 'of', 'software', 'companies', 'it', '’', 's', 'working', 'with', 'the', 'ride-hail', 'company', 'will', 'be', 'working', 'with', 'drive.ai', 'to', 'bring', 'its', 'semi-autonomous', 'cars', 'to', 'the', 'bay', 'area', 'by', 'the', 'end', 'of', 'the', 'year', 'lyft', 'riders', 'will', 'be', 'able', 'to', 'summon', 'a', 'car', 'that', 'drives', 'itself', 'part', 'of', 'the', 'time', 'a', 'driver', 'will', 'still', 'be', 'present', 'to', 'take', 'over', 'in', 'situations', 'where', 'the', 'software', 'can', '’', 't', 'properly', 'read', 'the', 'terrain', 'or', 'the', 'presence', 'of', 'pedestrians', 'while', 'the', 'experience', 'won', '’', 't', 'be', 'significantly', 'different', 'to', 'the', 'customer', 'lyft', 'and', 'its', 'chief', 'competitor', 'uber', 'have', 'been', 'testing', 'semi-autonomous', 'vehicles', 'in', 'an', 'effort', 'to', 'eventually', 'deploy', 'cars', 'without', 'drivers', 'such', 'vehicles', 'could', 'operate', 'nearly', 'continuously', 'and', 'wouldn', '’', 't', 'require', 'the', 'company', 'to', 'split', 'fares', 'with', 'the', 'driver', 'drive.ai', 'which', 'recently', 'raised', '50', 'million', 'and', 'is', 'backed', 'by', 'ggv', 'capital', 'is', 'now', 'the', 'fourth', 'autonomous', 'software', 'company', 'lyft', 'has', 'signed', 'in', 'addition', 'to', 'cruise', 'which', 'is', 'owned', 'by', 'gm', 'lyft', 'is', 'also', 'working', 'with', 'alphabet', '’', 's', 'waymo', 'and', 'the', 'boston-based', 'startup', 'nutonomy', 'which', 'expects', 'to', 'roll', 'out', 'its', 'semi-autonomous', 'cars', 'on', 'the', 'lyft', 'platform', 'in', 'boston', 'by', 'the', 'end', 'of', 'the', 'year', 'the', 'companies', 'aren', '’', 't', 'sharing', 'many', 'details', 'about', 'the', 'pilot', '—', 'such', 'as', 'when', 'exactly', 'it', 'will', 'launch', 'or', 'where', 'in', 'the', 'bay', 'area', 'what', 'we', 'know', 'is', 'that', 'lyft', 'will', 'invite', 'customers', 'to', 'test', 'the', 'service', 'for', 'free', 'and', 'the', 'pilot', 'will', 'initially', 'include', 'the', 'handful', 'of', 'cars', 'drive.ai', 'has', 'already', 'been', 'testing', 'in', 'addition', 'to', 'building', 'out', 'its', 'own', 'self-driving', 'software', 'lyft', 'has', 'created', 'an', 'open', 'platform', 'that', 'is', 'available', 'to', 'automakers', 'and', 'software', 'companies', 'drive.ai', '’', 's', 'garage', 'of', 'cars', 'which', 'include', 'a', 'lincoln', 'sedan', 'and', 'an', 'audi', 'sedan', 'while', 'it', '’', 's', 'certainly', 'a', 'development', 'for', 'lyft', 'this', 'is', 'by', 'no', 'means', 'an', 'indication', 'that', 'fully', 'autonomous', 'cars', 'will', 'be', 'available', 'anytime', 'soon', 'the', 'industry', 'is', 'still', 'in', 'the', 'test', 'phase', 'uber', 'is', 'trying', 'out', 'its', 'autonomous', 'network', 'in', 'arizona', 'san', 'francisco', 'and', 'pittsburgh', 'whilewaymo', 'is', 'testing', 'an', 'on-demand', 'network', 'in', 'arizona', 'cruise', 'employees', 'have', 'also', 'been', 'testing', 'an', 'internal', 'app', 'in', 'downtown', 'san', 'francisco', 'and', 'nutonomy', 'has', 'been', 'testing', 'its', 'own', 'services', 'in', 'both', 'singapore', 'and', 'boston', 'keep', 'in', 'mind', 'these', 'are', 'just', 'tests', 'and', 'aren', '’', 't', 'in', 'and', 'of', 'themselves', 'indicators', 'of', 'which', 'companies', 'are', 'ahead', 'in', 'the', 'race', 'to', 'getting', 'a', 'network', 'of', 'fully', 'self-driving', 'cars', 'on', 'the', 'road', 'progress', 'is', 'more', 'dependent', 'on', 'how', 'well', 'cars', 'can', 'drive', 'themselves', 'in', 'as', 'many', 'situations', 'and', 'geographies', 'as', 'possible', 'for', 'instance', 'cruise', '’', 's', 'app', '—', 'called', 'cruise', 'anywhere', '—', 'allows', 'staffers', 'to', 'take', 'its', 'semi-autonomous', 'chevy', 'bolts', 'to', 'anywhere', 'in', 'downtown', 'san', 'francisco', 'navigating', 'city', 'traffic', 'and', 'variables', 'is', 'no', 'small', 'feat', 'still', 'all', 'of', 'these', 'pilots', 'are', 'operating', 'in', 'thoroughly', 'mapped-out', 'geofenced', 'areas', 'the', 'biggest', 'tangible', 'development', 'for', 'consumers', 'is', 'that', 'more', 'of', 'them', 'will', 'actually', 'be', 'exposed', 'to', 'and', 'experience', 'autonomous', 'technology', 'for', 'the', 'first', 'time']))"
      ]
     },
     "execution_count": 11,
     "metadata": {},
     "output_type": "execute_result"
    }
   ],
   "source": [
    "len(heads), len(desc), heads[0], desc[0]"
   ]
  },
  {
   "cell_type": "code",
   "execution_count": 13,
   "metadata": {
    "collapsed": true
   },
   "outputs": [],
   "source": [
    "vocabcount = Counter(w for i in range(len(desc)) for w in desc[i])"
   ]
  },
  {
   "cell_type": "code",
   "execution_count": 14,
   "metadata": {},
   "outputs": [
    {
     "data": {
      "text/plain": [
       "[('the', 383), ('to', 258), ('a', 189), ('and', 181), ('of', 157)]"
      ]
     },
     "execution_count": 14,
     "metadata": {},
     "output_type": "execute_result"
    }
   ],
   "source": [
    "vocabcount.most_common(5)"
   ]
  },
  {
   "cell_type": "code",
   "execution_count": 15,
   "metadata": {
    "collapsed": true
   },
   "outputs": [],
   "source": [
    "import pickle"
   ]
  },
  {
   "cell_type": "code",
   "execution_count": 18,
   "metadata": {
    "collapsed": true
   },
   "outputs": [],
   "source": [
    "with open('data/tokens.pkl', 'wb') as f:\n",
    "    pickle.dump([heads, desc, None], f)"
   ]
  },
  {
   "cell_type": "code",
   "execution_count": null,
   "metadata": {
    "collapsed": true
   },
   "outputs": [],
   "source": []
  }
 ],
 "metadata": {
  "kernelspec": {
   "display_name": "Python 3",
   "language": "python",
   "name": "python3"
  },
  "language_info": {
   "codemirror_mode": {
    "name": "ipython",
    "version": 3
   },
   "file_extension": ".py",
   "mimetype": "text/x-python",
   "name": "python",
   "nbconvert_exporter": "python",
   "pygments_lexer": "ipython3",
   "version": "3.6.0"
  }
 },
 "nbformat": 4,
 "nbformat_minor": 2
}
