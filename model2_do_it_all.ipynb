{
 "cells": [
  {
   "cell_type": "code",
   "execution_count": 1,
   "metadata": {
    "collapsed": true
   },
   "outputs": [],
   "source": [
    "import time"
   ]
  },
  {
   "cell_type": "markdown",
   "metadata": {},
   "source": [
    "#### Setup Data into pickle files after cleaning and tokenizing them - for article text and headlines"
   ]
  },
  {
   "cell_type": "code",
   "execution_count": 2,
   "metadata": {},
   "outputs": [
    {
     "name": "stdout",
     "output_type": "stream",
     "text": [
      "Time: 12.151057004928589\n"
     ]
    }
   ],
   "source": [
    "start = time.time()\n",
    "%run data_setup.py\n",
    "print(\"Time:\",time.time()-start)"
   ]
  },
  {
   "cell_type": "markdown",
   "metadata": {},
   "source": [
    "#### Load Data from pickle files"
   ]
  },
  {
   "cell_type": "code",
   "execution_count": 3,
   "metadata": {},
   "outputs": [
    {
     "name": "stdout",
     "output_type": "stream",
     "text": [
      "241\n",
      "241\n"
     ]
    }
   ],
   "source": [
    "import pickle\n",
    "FN0 = 'bodies'\n",
    "FN1 = 'headlines'\n",
    "with open('data/%s.pkl'%FN0, 'rb') as fp:\n",
    "    bodies = pickle.load(fp)\n",
    "    print(len(bodies))\n",
    "with open('data/%s.pkl'%FN1, 'rb') as fp:\n",
    "    headlines = pickle.load(fp)\n",
    "    print(len(headlines))"
   ]
  },
  {
   "cell_type": "code",
   "execution_count": 4,
   "metadata": {},
   "outputs": [
    {
     "data": {
      "text/plain": [
       "['lyft', 'riders', 'able', 'hail', 'semiautonomous', 'car', 'end', '2017']"
      ]
     },
     "execution_count": 4,
     "metadata": {},
     "output_type": "execute_result"
    }
   ],
   "source": [
    "headlines[0]"
   ]
  },
  {
   "cell_type": "code",
   "execution_count": 5,
   "metadata": {},
   "outputs": [
    {
     "data": {
      "text/plain": [
       "['lyft',\n",
       " 'riders',\n",
       " 'able',\n",
       " 'hail',\n",
       " 'semiautonomous',\n",
       " 'car',\n",
       " 'bay',\n",
       " 'area',\n",
       " 'end',\n",
       " '2017',\n",
       " 'lyft',\n",
       " 'adding',\n",
       " 'another',\n",
       " 'selfdriving',\n",
       " 'startup',\n",
       " 'roster',\n",
       " 'software',\n",
       " 'companies',\n",
       " '’',\n",
       " 'working',\n",
       " 'ridehail',\n",
       " 'company',\n",
       " 'working',\n",
       " 'driveai',\n",
       " 'bring',\n",
       " 'semiautonomous',\n",
       " 'cars',\n",
       " 'bay',\n",
       " 'area',\n",
       " 'end',\n",
       " 'year',\n",
       " 'lyft',\n",
       " 'riders',\n",
       " 'able',\n",
       " 'summon',\n",
       " 'car',\n",
       " 'drives',\n",
       " 'part',\n",
       " 'time',\n",
       " 'driver',\n",
       " 'still',\n",
       " 'present',\n",
       " 'take',\n",
       " 'situations',\n",
       " 'software',\n",
       " '’',\n",
       " 'properly',\n",
       " 'read',\n",
       " 'terrain',\n",
       " 'presence',\n",
       " 'pedestrians',\n",
       " 'experience',\n",
       " '’',\n",
       " 'significantly',\n",
       " 'different',\n",
       " 'customer',\n",
       " 'lyft',\n",
       " 'chief',\n",
       " 'competitor',\n",
       " 'uber',\n",
       " 'testing',\n",
       " 'semiautonomous',\n",
       " 'vehicles',\n",
       " 'effort',\n",
       " 'eventually',\n",
       " 'deploy',\n",
       " 'cars',\n",
       " 'without',\n",
       " 'drivers',\n",
       " 'vehicles',\n",
       " 'could',\n",
       " 'operate',\n",
       " 'nearly',\n",
       " 'continuously',\n",
       " '’',\n",
       " 'require',\n",
       " 'company',\n",
       " 'split',\n",
       " 'fares',\n",
       " 'driver',\n",
       " 'driveai',\n",
       " 'recently',\n",
       " 'raised',\n",
       " '50',\n",
       " 'million',\n",
       " 'backed',\n",
       " 'ggv',\n",
       " 'capital',\n",
       " 'fourth',\n",
       " 'autonomous',\n",
       " 'software',\n",
       " 'company',\n",
       " 'lyft',\n",
       " 'signed',\n",
       " 'addition',\n",
       " 'cruise',\n",
       " 'owned',\n",
       " 'gm',\n",
       " 'lyft',\n",
       " 'also',\n",
       " 'working',\n",
       " 'alphabet',\n",
       " '’',\n",
       " 'waymo',\n",
       " 'bostonbased',\n",
       " 'startup',\n",
       " 'nutonomy',\n",
       " 'expects',\n",
       " 'roll',\n",
       " 'semiautonomous',\n",
       " 'cars',\n",
       " 'lyft',\n",
       " 'platform',\n",
       " 'boston',\n",
       " 'end',\n",
       " 'year',\n",
       " 'companies',\n",
       " '’',\n",
       " 'sharing',\n",
       " 'many',\n",
       " 'details',\n",
       " 'pilot',\n",
       " '—',\n",
       " 'exactly',\n",
       " 'launch',\n",
       " 'bay',\n",
       " 'area',\n",
       " 'know',\n",
       " 'lyft',\n",
       " 'invite',\n",
       " 'customers',\n",
       " 'test',\n",
       " 'service',\n",
       " 'free',\n",
       " 'pilot',\n",
       " 'initially',\n",
       " 'include',\n",
       " 'handful',\n",
       " 'cars',\n",
       " 'driveai',\n",
       " 'already',\n",
       " 'testing',\n",
       " 'addition',\n",
       " 'building',\n",
       " 'selfdriving',\n",
       " 'software',\n",
       " 'lyft',\n",
       " 'created',\n",
       " 'open',\n",
       " 'platform',\n",
       " 'available',\n",
       " 'automakers',\n",
       " 'software',\n",
       " 'companies',\n",
       " 'driveai',\n",
       " '’',\n",
       " 'garage',\n",
       " 'cars',\n",
       " 'include',\n",
       " 'lincoln',\n",
       " 'sedan',\n",
       " 'audi',\n",
       " 'sedan',\n",
       " '’',\n",
       " 'certainly',\n",
       " 'development',\n",
       " 'lyft',\n",
       " 'means',\n",
       " 'indication',\n",
       " 'fully',\n",
       " 'autonomous',\n",
       " 'cars',\n",
       " 'available',\n",
       " 'anytime',\n",
       " 'soon',\n",
       " 'industry',\n",
       " 'still',\n",
       " 'test',\n",
       " 'phase',\n",
       " 'uber',\n",
       " 'trying',\n",
       " 'autonomous',\n",
       " 'network',\n",
       " 'arizona',\n",
       " 'san',\n",
       " 'francisco',\n",
       " 'pittsburgh',\n",
       " 'whilewaymo',\n",
       " 'testing',\n",
       " 'ondemand',\n",
       " 'network',\n",
       " 'arizona',\n",
       " 'cruise',\n",
       " 'employees',\n",
       " 'also',\n",
       " 'testing',\n",
       " 'internal',\n",
       " 'app',\n",
       " 'downtown',\n",
       " 'san',\n",
       " 'francisco',\n",
       " 'nutonomy',\n",
       " 'testing',\n",
       " 'services',\n",
       " 'singapore',\n",
       " 'boston',\n",
       " 'keep',\n",
       " 'mind',\n",
       " 'tests',\n",
       " '’',\n",
       " 'indicators',\n",
       " 'companies',\n",
       " 'ahead',\n",
       " 'race',\n",
       " 'getting',\n",
       " 'network',\n",
       " 'fully',\n",
       " 'selfdriving',\n",
       " 'cars',\n",
       " 'road',\n",
       " 'progress',\n",
       " 'dependent',\n",
       " 'well',\n",
       " 'cars',\n",
       " 'drive',\n",
       " 'many',\n",
       " 'situations',\n",
       " 'geographies',\n",
       " 'possible',\n",
       " 'instance',\n",
       " 'cruise',\n",
       " '’',\n",
       " 'app',\n",
       " '—',\n",
       " 'called',\n",
       " 'cruise',\n",
       " 'anywhere',\n",
       " '—',\n",
       " 'allows',\n",
       " 'staffers',\n",
       " 'take',\n",
       " 'semiautonomous',\n",
       " 'chevy',\n",
       " 'bolts',\n",
       " 'anywhere',\n",
       " 'downtown',\n",
       " 'san',\n",
       " 'francisco',\n",
       " 'navigating',\n",
       " 'city',\n",
       " 'traffic',\n",
       " 'variables',\n",
       " 'small',\n",
       " 'feat',\n",
       " 'still',\n",
       " 'pilots',\n",
       " 'operating',\n",
       " 'thoroughly',\n",
       " 'mappedout',\n",
       " 'geofenced',\n",
       " 'areas',\n",
       " 'biggest',\n",
       " 'tangible',\n",
       " 'development',\n",
       " 'consumers',\n",
       " 'actually',\n",
       " 'exposed',\n",
       " 'experience',\n",
       " 'autonomous',\n",
       " 'technology',\n",
       " 'first',\n",
       " 'time']"
      ]
     },
     "execution_count": 5,
     "metadata": {},
     "output_type": "execute_result"
    }
   ],
   "source": [
    "bodies[0]"
   ]
  },
  {
   "cell_type": "markdown",
   "metadata": {},
   "source": [
    "#### Make Word Embeddings from Glove"
   ]
  },
  {
   "cell_type": "code",
   "execution_count": 6,
   "metadata": {},
   "outputs": [
    {
     "name": "stderr",
     "output_type": "stream",
     "text": [
      "Using TensorFlow backend.\n"
     ]
    },
    {
     "name": "stdout",
     "output_type": "stream",
     "text": [
      "[('zealand', 0.9207794666290283), ('australian', 0.8780614137649536), ('britain', 0.8478988409042358), ('africa', 0.8332696557044983), ('england', 0.8085249066352844), ('united', 0.8037459254264832), ('canada', 0.7994688749313354), ('south', 0.7845567464828491), ('scotland', 0.7658649682998657), ('wales', 0.7653419971466064)]\n",
      "0.886033768342\n",
      "Time: 18.041852951049805\n",
      "[('zealand', 0.9042124152183533), ('england', 0.7858783006668091), ('australian', 0.7696144580841064), ('britain', 0.7670673131942749), ('canada', 0.7569618821144104), ('africa', 0.7522280812263489), ('scotland', 0.7264115214347839), ('wales', 0.7209108471870422), ('india', 0.704209566116333), ('indies', 0.6983798146247864)]\n",
      "0.832349418276\n",
      "Time: 32.54984784126282\n",
      "[('zealand', 0.80061274766922), ('australian', 0.7617150545120239), ('canada', 0.6340054273605347), ('sydney', 0.6331798434257507), ('britain', 0.6271337866783142), ('queensland', 0.6240568161010742), ('england', 0.6210855841636658), ('melbourne', 0.6138824224472046), ('africa', 0.6131184101104736), ('australians', 0.6081660985946655)]\n",
      "0.752008622943\n",
      "Time: 61.468090772628784\n",
      "[('zealand', 0.742257297039032), ('australian', 0.7370361685752869), ('sydney', 0.63078373670578), ('queensland', 0.6043750643730164), ('melbourne', 0.5921774506568909), ('australians', 0.5573931932449341), ('wales', 0.5548117756843567), ('england', 0.5541056394577026), ('brisbane', 0.5532544255256653), ('perth', 0.5468735694885254)]\n",
      "0.699866339223\n",
      "Time: 87.07750391960144\n"
     ]
    }
   ],
   "source": [
    "from glove_word2vec_convert import convert\n",
    "for dim in [50, 100, 200, 300]:\n",
    "    start = time.time()\n",
    "    convert(dim)\n",
    "    print(\"Time:\",time.time() - start)"
   ]
  },
  {
   "cell_type": "markdown",
   "metadata": {},
   "source": [
    "#### Run Model - for glove embeddings 50, 100, 200 and 300 dimensions"
   ]
  },
  {
   "cell_type": "code",
   "execution_count": 9,
   "metadata": {},
   "outputs": [
    {
     "name": "stderr",
     "output_type": "stream",
     "text": [
      "Using TensorFlow backend.\n",
      "/Users/jc/gU/DSCI-6004-student/hackernews/model.py:41: UserWarning: The `dropout` argument is no longer support in `Embedding`. You can apply a `keras.layers.SpatialDropout1D` layer right after the `Embedding` layer to get the same behavior.\n",
      "  weights=[embedding_weights], dropout=0.5)(bodies)\n",
      "/Users/jc/gU/DSCI-6004-student/hackernews/model.py:42: UserWarning: Update your `GRU` call to the Keras 2 API: `GRU(1024, return_sequences=True, dropout=0.5, recurrent_dropout=0.5)`\n",
      "  layer = GRU(1024, return_sequences=True, dropout_W=0.5, dropout_U=0.5)(embeddings)\n",
      "/Users/jc/gU/DSCI-6004-student/hackernews/model.py:43: UserWarning: Update your `GRU` call to the Keras 2 API: `GRU(1024, return_sequences=False, dropout=0.5, recurrent_dropout=0.5)`\n",
      "  layer = GRU(1024, return_sequences=False, dropout_W=0.5, dropout_U=0.5)(layer)\n",
      "/Users/jc/gU/DSCI-6004-student/hackernews/model.py:46: UserWarning: Update your `Model` call to the Keras 2 API: `Model(inputs=Tensor(\"in..., outputs=Tensor(\"de...)`\n",
      "  model = Model(input=bodies, output=layer)\n",
      "/Users/jc/gU/DSCI-6004-student/hackernews/model.py:100: UserWarning: The `nb_epoch` argument in `fit` has been renamed `epochs`.\n",
      "  shuffle=False)\n"
     ]
    },
    {
     "name": "stdout",
     "output_type": "stream",
     "text": [
      "Train on 977 samples, validate on 109 samples\n",
      "Epoch 1/50\n",
      "977/977 [==============================] - 260s - loss: 10.1776 - val_loss: 10.1275\n",
      "Epoch 2/50\n",
      "977/977 [==============================] - 104s - loss: 7.2554 - val_loss: 9.9645\n",
      "Epoch 3/50\n",
      "977/977 [==============================] - 97s - loss: 6.6053 - val_loss: 10.3346\n",
      "Epoch 4/50\n",
      "977/977 [==============================] - 102s - loss: 6.3197 - val_loss: 10.6106\n",
      "Epoch 5/50\n",
      "977/977 [==============================] - 100s - loss: 6.0825 - val_loss: 10.8254\n",
      "Epoch 6/50\n",
      "977/977 [==============================] - 104s - loss: 5.8247 - val_loss: 11.0068\n",
      "Epoch 7/50\n",
      "977/977 [==============================] - 123s - loss: 5.5456 - val_loss: 10.9210\n",
      "Epoch 8/50\n",
      "977/977 [==============================] - 103s - loss: 5.2715 - val_loss: 11.0052\n",
      "Time: 1023.3650629520416\n"
     ]
    }
   ],
   "source": [
    "start = time.time()\n",
    "%run model.py 50\n",
    "print(\"Time:\",time.time()-start)"
   ]
  },
  {
   "cell_type": "code",
   "execution_count": 10,
   "metadata": {},
   "outputs": [
    {
     "name": "stderr",
     "output_type": "stream",
     "text": [
      "/Users/jc/gU/DSCI-6004-student/hackernews/model.py:41: UserWarning: The `dropout` argument is no longer support in `Embedding`. You can apply a `keras.layers.SpatialDropout1D` layer right after the `Embedding` layer to get the same behavior.\n",
      "  weights=[embedding_weights], dropout=0.5)(bodies)\n",
      "/Users/jc/gU/DSCI-6004-student/hackernews/model.py:42: UserWarning: Update your `GRU` call to the Keras 2 API: `GRU(1024, return_sequences=True, dropout=0.5, recurrent_dropout=0.5)`\n",
      "  layer = GRU(1024, return_sequences=True, dropout_W=0.5, dropout_U=0.5)(embeddings)\n",
      "/Users/jc/gU/DSCI-6004-student/hackernews/model.py:43: UserWarning: Update your `GRU` call to the Keras 2 API: `GRU(1024, return_sequences=False, dropout=0.5, recurrent_dropout=0.5)`\n",
      "  layer = GRU(1024, return_sequences=False, dropout_W=0.5, dropout_U=0.5)(layer)\n",
      "/Users/jc/gU/DSCI-6004-student/hackernews/model.py:46: UserWarning: Update your `Model` call to the Keras 2 API: `Model(inputs=Tensor(\"in..., outputs=Tensor(\"de...)`\n",
      "  model = Model(input=bodies, output=layer)\n",
      "/Users/jc/gU/DSCI-6004-student/hackernews/model.py:100: UserWarning: The `nb_epoch` argument in `fit` has been renamed `epochs`.\n",
      "  shuffle=False)\n"
     ]
    },
    {
     "name": "stdout",
     "output_type": "stream",
     "text": [
      "Train on 977 samples, validate on 109 samples\n",
      "Epoch 1/50\n",
      "977/977 [==============================] - 102s - loss: 9.6968 - val_loss: 8.5896\n",
      "Epoch 2/50\n",
      "977/977 [==============================] - 106s - loss: 6.6810 - val_loss: 9.3631\n",
      "Epoch 3/50\n",
      "977/977 [==============================] - 102s - loss: 6.4104 - val_loss: 9.5452\n",
      "Epoch 4/50\n",
      "977/977 [==============================] - 91s - loss: 6.2494 - val_loss: 9.9169\n",
      "Epoch 5/50\n",
      "977/977 [==============================] - 91s - loss: 6.0932 - val_loss: 10.1816\n",
      "Epoch 6/50\n",
      "977/977 [==============================] - 92s - loss: 5.9368 - val_loss: 10.3147\n",
      "Epoch 7/50\n",
      "977/977 [==============================] - 95s - loss: 5.7280 - val_loss: 10.3787\n",
      "Time: 720.7059531211853\n"
     ]
    }
   ],
   "source": [
    "start = time.time()\n",
    "%run model.py 100\n",
    "print(\"Time:\",time.time()-start)"
   ]
  },
  {
   "cell_type": "code",
   "execution_count": 11,
   "metadata": {},
   "outputs": [
    {
     "name": "stderr",
     "output_type": "stream",
     "text": [
      "/Users/jc/gU/DSCI-6004-student/hackernews/model.py:41: UserWarning: The `dropout` argument is no longer support in `Embedding`. You can apply a `keras.layers.SpatialDropout1D` layer right after the `Embedding` layer to get the same behavior.\n",
      "  weights=[embedding_weights], dropout=0.5)(bodies)\n",
      "/Users/jc/gU/DSCI-6004-student/hackernews/model.py:42: UserWarning: Update your `GRU` call to the Keras 2 API: `GRU(1024, return_sequences=True, dropout=0.5, recurrent_dropout=0.5)`\n",
      "  layer = GRU(1024, return_sequences=True, dropout_W=0.5, dropout_U=0.5)(embeddings)\n",
      "/Users/jc/gU/DSCI-6004-student/hackernews/model.py:43: UserWarning: Update your `GRU` call to the Keras 2 API: `GRU(1024, return_sequences=False, dropout=0.5, recurrent_dropout=0.5)`\n",
      "  layer = GRU(1024, return_sequences=False, dropout_W=0.5, dropout_U=0.5)(layer)\n",
      "/Users/jc/gU/DSCI-6004-student/hackernews/model.py:46: UserWarning: Update your `Model` call to the Keras 2 API: `Model(inputs=Tensor(\"in..., outputs=Tensor(\"de...)`\n",
      "  model = Model(input=bodies, output=layer)\n",
      "/Users/jc/gU/DSCI-6004-student/hackernews/model.py:100: UserWarning: The `nb_epoch` argument in `fit` has been renamed `epochs`.\n",
      "  shuffle=False)\n"
     ]
    },
    {
     "name": "stdout",
     "output_type": "stream",
     "text": [
      "Train on 977 samples, validate on 109 samples\n",
      "Epoch 1/50\n",
      "977/977 [==============================] - 253s - loss: 9.7048 - val_loss: 8.9019\n",
      "Epoch 2/50\n",
      "977/977 [==============================] - 106s - loss: 6.8443 - val_loss: 9.4263\n",
      "Epoch 3/50\n",
      "977/977 [==============================] - 109s - loss: 6.0257 - val_loss: 9.6998\n",
      "Epoch 4/50\n",
      "977/977 [==============================] - 111s - loss: 5.6483 - val_loss: 10.1359\n",
      "Epoch 5/50\n",
      "977/977 [==============================] - 111s - loss: 5.3835 - val_loss: 10.5642\n",
      "Epoch 6/50\n",
      "977/977 [==============================] - 106s - loss: 5.2230 - val_loss: 10.2800\n",
      "Epoch 7/50\n",
      "977/977 [==============================] - 112s - loss: 5.0038 - val_loss: 10.2851\n",
      "Time: 976.8387160301208\n"
     ]
    }
   ],
   "source": [
    "start = time.time()\n",
    "%run model.py 200\n",
    "print(\"Time:\",time.time()-start)"
   ]
  },
  {
   "cell_type": "code",
   "execution_count": 12,
   "metadata": {},
   "outputs": [
    {
     "name": "stderr",
     "output_type": "stream",
     "text": [
      "/Users/jc/gU/DSCI-6004-student/hackernews/model.py:41: UserWarning: The `dropout` argument is no longer support in `Embedding`. You can apply a `keras.layers.SpatialDropout1D` layer right after the `Embedding` layer to get the same behavior.\n",
      "  weights=[embedding_weights], dropout=0.5)(bodies)\n",
      "/Users/jc/gU/DSCI-6004-student/hackernews/model.py:42: UserWarning: Update your `GRU` call to the Keras 2 API: `GRU(1024, return_sequences=True, dropout=0.5, recurrent_dropout=0.5)`\n",
      "  layer = GRU(1024, return_sequences=True, dropout_W=0.5, dropout_U=0.5)(embeddings)\n",
      "/Users/jc/gU/DSCI-6004-student/hackernews/model.py:43: UserWarning: Update your `GRU` call to the Keras 2 API: `GRU(1024, return_sequences=False, dropout=0.5, recurrent_dropout=0.5)`\n",
      "  layer = GRU(1024, return_sequences=False, dropout_W=0.5, dropout_U=0.5)(layer)\n",
      "/Users/jc/gU/DSCI-6004-student/hackernews/model.py:46: UserWarning: Update your `Model` call to the Keras 2 API: `Model(inputs=Tensor(\"in..., outputs=Tensor(\"de...)`\n",
      "  model = Model(input=bodies, output=layer)\n",
      "/Users/jc/gU/DSCI-6004-student/hackernews/model.py:100: UserWarning: The `nb_epoch` argument in `fit` has been renamed `epochs`.\n",
      "  shuffle=False)\n"
     ]
    },
    {
     "name": "stdout",
     "output_type": "stream",
     "text": [
      "Train on 977 samples, validate on 109 samples\n",
      "Epoch 1/50\n",
      "977/977 [==============================] - 310s - loss: 9.9826 - val_loss: 8.8127\n",
      "Epoch 2/50\n",
      "977/977 [==============================] - 107s - loss: 6.7610 - val_loss: 9.3869\n",
      "Epoch 3/50\n",
      "977/977 [==============================] - 239s - loss: 6.6389 - val_loss: 10.2881\n",
      "Epoch 4/50\n",
      "977/977 [==============================] - 121s - loss: 6.4660 - val_loss: 9.8158\n",
      "Epoch 5/50\n",
      "977/977 [==============================] - 109s - loss: 5.7885 - val_loss: 9.9366\n",
      "Epoch 6/50\n",
      "977/977 [==============================] - 115s - loss: 5.5631 - val_loss: 10.2726\n",
      "Epoch 7/50\n",
      "977/977 [==============================] - 119s - loss: 5.1913 - val_loss: 10.4451\n",
      "Time: 1231.8864741325378\n"
     ]
    }
   ],
   "source": [
    "start = time.time()\n",
    "%run model.py 300\n",
    "print(\"Time:\",time.time()-start)"
   ]
  },
  {
   "cell_type": "code",
   "execution_count": null,
   "metadata": {
    "collapsed": true
   },
   "outputs": [],
   "source": [
    "import sys\n",
    "import codecs\n",
    "import numpy as np\n",
    "import matplotlib.pyplot as plt\n",
    " \n",
    "from sklearn.manifold import TSNE\n",
    " \n",
    " \n",
    "def main():\n",
    " \n",
    "    embeddings_file = sys.argv[1]\n",
    "    wv, vocabulary = load_embeddings(embeddings_file)\n",
    " \n",
    "    tsne = TSNE(n_components=2, random_state=0)\n",
    "    np.set_printoptions(suppress=True)\n",
    "    Y = tsne.fit_transform(wv[:1000,:])\n",
    "    plt.figure(figsize=(200, 200), dpi=100)\n",
    "    plt.scatter(Y[:, 0], Y[:, 1])\n",
    "    for label, x, y in zip(vocabulary, Y[:, 0], Y[:, 1]):\n",
    "        plt.annotate(label, xy=(x, y), xytext=(0, 0), textcoords='offset points')\n",
    "    plt.show()\n",
    " \n",
    " \n",
    "def load_embeddings(file_name):\n",
    " \n",
    "    with codecs.open(file_name, 'r', 'utf-8') as f_in:\n",
    "        vocabulary, wv = zip(*[line.strip().split(' ', 1) for line in \n",
    "f_in])\n",
    "    wv = np.loadtxt(wv)\n",
    "    return wv, vocabulary\n",
    " \n",
    "if __name__ == '__main__':\n",
    "    main()"
   ]
  }
 ],
 "metadata": {
  "kernelspec": {
   "display_name": "Python 3",
   "language": "python",
   "name": "python3"
  },
  "language_info": {
   "codemirror_mode": {
    "name": "ipython",
    "version": 3
   },
   "file_extension": ".py",
   "mimetype": "text/x-python",
   "name": "python",
   "nbconvert_exporter": "python",
   "pygments_lexer": "ipython3",
   "version": "3.6.0"
  }
 },
 "nbformat": 4,
 "nbformat_minor": 2
}
